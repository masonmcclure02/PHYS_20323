{
 "cells": [
  {
   "cell_type": "markdown",
   "metadata": {},
   "source": [
    "# PHYS 20323/60323 Homework Week 8\n",
    "\n",
    "FALL 2022\n"
   ]
  },
  {
   "cell_type": "markdown",
   "metadata": {},
   "source": [
    "### 1) Altitude of a satellite\n",
    "\n",
    "A satellite is to be launched into a circular orbit around the Earth so that it orbits the planet once every T seconds.\n",
    "\n",
    "The altitude h above the Earth’s surface that the satellite must have is:\n",
    "\n",
    "$$h = \\left( \\frac{G M T^2}{4\\pi^2} \\right)^{1/3} - R$$\n",
    "\n",
    "where $G = 6.67 \\times 10^{-11}$ m$^3$ kg$^{-1}$ s$^{-2}$\n",
    "is Newton's gravitational constant, $M = 5.97 \\times 10^{24}$ kg is the mass of the Earth, and $R = 6371$ km is its radius.\n",
    "\n",
    "#### Write a program that asks the user to enter the desired value of T and then calculates and prints out the correct altitude in meters.\n"
   ]
  },
  {
   "cell_type": "code",
   "execution_count": 5,
   "metadata": {},
   "outputs": [],
   "source": [
    "import math\n",
    "G = 6.67e-11\n",
    "M = 5.97e24\n",
    "R = 6371e3\n",
    "\n",
    "def satheight():\n",
    "    T = int(input(\"Value of T in seconds: \"))\n",
    "    return str((((G*M*(T**2))/(4*(math.pi**2)))**(1/3)) - R) + \"m\""
   ]
  },
  {
   "cell_type": "markdown",
   "metadata": {},
   "source": [
    "Use your program to calculate the altitudes of satellites that orbit the Earth once a day (so-called “geosynchronous” orbit), once every 90 minutes, and once every 45 minutes. What do you conclude from the last of these calculations?"
   ]
  },
  {
   "cell_type": "code",
   "execution_count": 42,
   "metadata": {},
   "outputs": [
    {
     "name": "stdout",
     "output_type": "stream",
     "text": [
      "Value of T: 5400\n",
      "Value of T: 2700\n",
      "279321.6253728606m -2181559.8978108233m\n"
     ]
    }
   ],
   "source": [
    "print(satheight(),satheight())# Can't orbit that fast"
   ]
  },
  {
   "cell_type": "markdown",
   "metadata": {},
   "source": [
    "Technically a geosynchronous satellite is one that orbits the Earth once persidereal day, which is 23.93 hours, not 24 hours. Why is this? And how much difference will it make to the altitude of the satellite?"
   ]
  },
  {
   "cell_type": "code",
   "execution_count": null,
   "metadata": {},
   "outputs": [],
   "source": [
    "#One day on earth isn't exactly 24 hours | Since the time isn't exactly 24 hrs, it will have to orbit slower, so higher"
   ]
  },
  {
   "cell_type": "markdown",
   "metadata": {},
   "source": [
    "### 2) Special Relativity\n",
    "\n",
    "A spaceship travels from Earth in a straight line at a (relativistic)\n",
    "speed $v$ to another planet $x$ light years away. Write a program to ask\n",
    "the user for the value of $x$ and the speed $v$ as a fraction of the speed\n",
    "of light, then print out the time in years that the spaceship takes to\n",
    "reach its destination (a) in the rest frame of an observer on Earth\n",
    "and (b) as perceived by a passenger on board the ship.\n",
    "\n",
    "$$x' = \\gamma (x - vt)$$\n",
    "\n",
    "$$t' = \\gamma \\left(t - \\frac{v x}{c^2}\\right)$$\n",
    "\n",
    "$$\\gamma = \\frac{1}{\\sqrt{1 - \\frac{v^2}{c^2}}}$$\n"
   ]
  },
  {
   "cell_type": "code",
   "execution_count": 1,
   "metadata": {},
   "outputs": [],
   "source": [
    "import math\n",
    "def rel():\n",
    "    x = float(input(\"How far away in light years?: \"))\n",
    "    v = float(input(\"What is the relativistic speed?: \"))\n",
    "    c = 3e8\n",
    "    t = x/v # time on earth\n",
    "    y = t*math.sqrt(1-v**2) # time on space ship\n",
    "    print(\"Time in earths frame: \" + str(t) + \" years\", \"Time in spaceship frame: \" + str(y) + \" years\")"
   ]
  },
  {
   "cell_type": "markdown",
   "metadata": {},
   "source": [
    "#### Use your program to calculate the answers for a planet 10 light years away with $v = 0.90c$,  $v = 0.98c$, $v = 0.999c$."
   ]
  },
  {
   "cell_type": "code",
   "execution_count": 2,
   "metadata": {},
   "outputs": [
    {
     "name": "stdout",
     "output_type": "stream",
     "text": [
      "How far away in light years?: 10\n",
      "What is the relativistic speed?: .9\n",
      "Time in earths frame: 11.11111111111111 years Time in spaceship frame: 4.843221048378525 years\n",
      "How far away in light years?: 10\n",
      "What is the relativistic speed?: .98\n",
      "Time in earths frame: 10.204081632653061 years Time in spaceship frame: 2.0305866063400426 years\n",
      "How far away in light years?: 10\n",
      "What is the relativistic speed?: .999\n",
      "Time in earths frame: 10.01001001001001 years Time in spaceship frame: 0.44754932744960974 years\n"
     ]
    }
   ],
   "source": [
    "import math\n",
    "def rel():\n",
    "    x = float(input(\"How far away in light years?: \"))\n",
    "    v = float(input(\"What is the relativistic speed?: \"))\n",
    "    c = 3e8\n",
    "    t = x/v # time on earth\n",
    "    y = t*math.sqrt(1-v**2) # time on space ship\n",
    "    print(\"Time in earths frame: \" + str(t) + \" years\", \"Time in spaceship frame: \" + str(y) + \" years\")\n",
    "rel()\n",
    "rel()\n",
    "rel()"
   ]
  },
  {
   "cell_type": "markdown",
   "metadata": {},
   "source": [
    "### 3) The quadratic equation\n",
    "\n",
    " Write a program that takes as input three numbers, $a$, $b$, and $c$, and prints out the two solutions to the quadratic equation $ax^2 + bx + c = 0$ using the standard\n",
    "formula:\n",
    "\n",
    "$$x = \\frac{-b \\pm \\sqrt{b^2 - 4ac}}{2a}$$\n",
    "\n",
    "Use your program to compute the solutions of $0.001x^2 + 1000x + 0.001 = 0$."
   ]
  },
  {
   "cell_type": "code",
   "execution_count": 72,
   "metadata": {},
   "outputs": [],
   "source": [
    "def quadraticf():\n",
    "    a = float(input(\"a: \"))\n",
    "    b = float(input(\"b: \"))\n",
    "    c = float(input(\"c: \"))\n",
    "    sol1 = ((-b + (math.sqrt((b**2)-((4*a)*c))))/(2*a))\n",
    "    sol2 = ((-b - (math.sqrt((b**2)-((4*a)*c))))/(2*a))\n",
    "    return(sol2, sol1)"
   ]
  },
  {
   "cell_type": "code",
   "execution_count": 73,
   "metadata": {},
   "outputs": [
    {
     "name": "stdout",
     "output_type": "stream",
     "text": [
      "a: .001\n",
      "b: 1000\n",
      "c: .001\n"
     ]
    },
    {
     "data": {
      "text/plain": [
       "(-999999.999999, -9.999894245993346e-07)"
      ]
     },
     "execution_count": 73,
     "metadata": {},
     "output_type": "execute_result"
    }
   ],
   "source": [
    "quadraticf()"
   ]
  },
  {
   "cell_type": "markdown",
   "metadata": {},
   "source": [
    "There is another way to write the solutions to a quadratic equation. Multiplying top and bottom of the solution above by $-b \\mp \\sqrt{b^2 - 4ac}$, show that the solutions\n",
    "can also be written as:\n",
    "\n",
    "$$x = \\frac{2c}{-b \\mp \\sqrt{b^2 - 4ac}}$$\n",
    "\n",
    "Add further lines to your program to print these values in addition to the earlier ones and again use the program to solve $0.001x^2 + 1000x + 0.001 = 0$. What do you see? How do you explain it?"
   ]
  },
  {
   "cell_type": "code",
   "execution_count": 145,
   "metadata": {},
   "outputs": [
    {
     "name": "stdout",
     "output_type": "stream",
     "text": [
      "a: 1\n",
      "b: 1e8\n",
      "c: 1\n",
      "sol1: -7.450580596923828e-09\n",
      "sol2: -100000000.0\n",
      "sol3: -134217728.0\n",
      "sol4: -1e-08\n"
     ]
    }
   ],
   "source": [
    "def quadraticf():\n",
    "    a = float(input(\"a: \"))\n",
    "    b = float(input(\"b: \"))\n",
    "    c = float(input(\"c: \"))\n",
    "    sol1 = (-b + (math.sqrt((b**2)-((4*a)*c))))/(2*a)\n",
    "    sol2 = (-b - (math.sqrt((b**2)-((4*a)*c))))/(2*a)   \n",
    "    sol3 = (2*c) / (-b + math.sqrt(b**2 - (4*a*c)))\n",
    "    sol4 = (2*c) / (-b - math.sqrt(b**2 - (4*a*c))) \n",
    "    print(\"sol1: \"+str(sol1))\n",
    "    print(\"sol2: \"+str(sol2))\n",
    "    print(\"sol3: \"+str(sol3))\n",
    "    print(\"sol4: \"+str(sol4))\n",
    "\n",
    "quadraticf()\n",
    "\n",
    "# there is a precision error in the quadratic formula when 'b' becomes a very large number. When comuting the top fraction\n",
    "# you get a subraction of two very similar numbers hence a precision error. (or bottom fraction if using other formula)\n",
    "# depending on b is neg or pos assuming its very large, one of the two quadratic equations will have a precison error for one root"
   ]
  },
  {
   "cell_type": "markdown",
   "metadata": {},
   "source": [
    "Using what you have learned, write a new program that calculates both roots of a quadratic equation accurately in all cases."
   ]
  },
  {
   "cell_type": "code",
   "execution_count": 6,
   "metadata": {},
   "outputs": [
    {
     "name": "stdout",
     "output_type": "stream",
     "text": [
      "a: .001\n",
      "b: 1000\n",
      "c: .001\n",
      "sol1: -999999.999999\n",
      "sol2: -1.000000000001e-06\n"
     ]
    }
   ],
   "source": [
    "def newquadf():\n",
    "    a = float(input(\"a: \"))\n",
    "    b = float(input(\"b: \"))\n",
    "    c = float(input(\"c: \"))\n",
    "    if c == 0:\n",
    "        sol1 = (-b + (math.sqrt((b**2)-((4*a)*c))))/(2*a)\n",
    "        sol2 = (-b - (math.sqrt((b**2)-((4*a)*c))))/(2*a)\n",
    "    elif b > 0:\n",
    "        sol1 = (-b - (math.sqrt((b**2)-((4*a)*c))))/(2*a)\n",
    "        sol2 = (2*c) / (-b - math.sqrt(b**2 - (4*a*c)))\n",
    "    elif b < 0:\n",
    "        sol1 = (-b + (math.sqrt((b**2)-((4*a)*c))))/(2*a)\n",
    "        sol2 = (2*c) / (-b + math.sqrt(b**2 - (4*a*c)))\n",
    "    print(\"sol1: \" + str(sol1))\n",
    "    print(\"sol2: \" + str(sol2))\n",
    "\n",
    "newquadf()"
   ]
  }
 ],
 "metadata": {
  "kernelspec": {
   "display_name": "Python 3 (ipykernel)",
   "language": "python",
   "name": "python3"
  },
  "language_info": {
   "codemirror_mode": {
    "name": "ipython",
    "version": 3
   },
   "file_extension": ".py",
   "mimetype": "text/x-python",
   "name": "python",
   "nbconvert_exporter": "python",
   "pygments_lexer": "ipython3",
   "version": "3.9.12"
  }
 },
 "nbformat": 4,
 "nbformat_minor": 4
}
