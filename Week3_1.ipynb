{
 "cells": [
  {
   "cell_type": "markdown",
   "metadata": {},
   "source": [
    "# Week 3 (Wed) - Booleans, Tuples, and Dictionaries"
   ]
  },
  {
   "cell_type": "markdown",
   "metadata": {},
   "source": [
    "## Booleans"
   ]
  },
  {
   "cell_type": "markdown",
   "metadata": {
    "slideshow": {
     "slide_type": "slide"
    }
   },
   "source": [
    "A ``boolean`` is one of the simplest Python types, and it can have two values: ``True`` and ``False`` (with uppercase ``T`` and ``F``):"
   ]
  },
  {
   "cell_type": "code",
   "execution_count": null,
   "metadata": {},
   "outputs": [],
   "source": [
    "a = True\n",
    "b = False"
   ]
  },
  {
   "cell_type": "markdown",
   "metadata": {
    "slideshow": {
     "slide_type": "slide"
    }
   },
   "source": [
    "Booleans can be combined with logical operators to give other booleans:"
   ]
  },
  {
   "cell_type": "code",
   "execution_count": null,
   "metadata": {},
   "outputs": [],
   "source": [
    "True and False"
   ]
  },
  {
   "cell_type": "code",
   "execution_count": null,
   "metadata": {},
   "outputs": [],
   "source": [
    "True or False"
   ]
  },
  {
   "cell_type": "code",
   "execution_count": null,
   "metadata": {},
   "outputs": [],
   "source": [
    "(False and (True or False)) or (False and True)"
   ]
  },
  {
   "cell_type": "markdown",
   "metadata": {
    "slideshow": {
     "slide_type": "slide"
    }
   },
   "source": [
    "Standard comparison operators can also produce booleans:"
   ]
  },
  {
   "cell_type": "code",
   "execution_count": null,
   "metadata": {},
   "outputs": [],
   "source": [
    "1 == 3"
   ]
  },
  {
   "cell_type": "code",
   "execution_count": null,
   "metadata": {},
   "outputs": [],
   "source": [
    "1 != 3"
   ]
  },
  {
   "cell_type": "code",
   "execution_count": null,
   "metadata": {},
   "outputs": [],
   "source": [
    "3 > 2"
   ]
  },
  {
   "cell_type": "code",
   "execution_count": null,
   "metadata": {},
   "outputs": [],
   "source": [
    "3 <= 3.4"
   ]
  },
  {
   "cell_type": "markdown",
   "metadata": {},
   "source": [
    "## Exercise 1"
   ]
  },
  {
   "cell_type": "markdown",
   "metadata": {},
   "source": [
    "Write an expression that returns ``True`` if ``x`` is strictly greater than 3.4 and smaller or equal to 6.6, or if it is 2, and try changing ``x`` to see if it works:"
   ]
  },
  {
   "cell_type": "code",
   "execution_count": null,
   "metadata": {},
   "outputs": [],
   "source": [
    "x = 2\n",
    "\n",
    "# your solution here\n",
    "\n",
    "if x > 3.4 and x <= 6.6 or x==2:\n",
    "    print(True)\n",
    "else:\n",
    "    print(False)\n",
    "\n",
    "x > 3.4 and x<= 6.6 or x==2\n"
   ]
  },
  {
   "cell_type": "markdown",
   "metadata": {},
   "source": [
    "## Tuples"
   ]
  },
  {
   "cell_type": "markdown",
   "metadata": {
    "slideshow": {
     "slide_type": "slide"
    }
   },
   "source": [
    "Tuples are, like lists, a type of sequence, but they use round parentheses rather than square brackets:"
   ]
  },
  {
   "cell_type": "code",
   "execution_count": null,
   "metadata": {},
   "outputs": [],
   "source": [
    "t = (1, 2, 3)"
   ]
  },
  {
   "cell_type": "markdown",
   "metadata": {
    "slideshow": {
     "slide_type": "slide"
    }
   },
   "source": [
    "They can contain heterogeneous types like lists:"
   ]
  },
  {
   "cell_type": "code",
   "execution_count": null,
   "metadata": {},
   "outputs": [],
   "source": [
    "t = (1, 2.3, 'spam')"
   ]
  },
  {
   "cell_type": "markdown",
   "metadata": {
    "slideshow": {
     "slide_type": "slide"
    }
   },
   "source": [
    "and also support item access and slicing like lists:"
   ]
  },
  {
   "cell_type": "code",
   "execution_count": null,
   "metadata": {},
   "outputs": [],
   "source": [
    "t[1]"
   ]
  },
  {
   "cell_type": "code",
   "execution_count": null,
   "metadata": {},
   "outputs": [],
   "source": [
    "t[:2]"
   ]
  },
  {
   "cell_type": "markdown",
   "metadata": {
    "slideshow": {
     "slide_type": "slide"
    }
   },
   "source": [
    "The main difference is that they are **immutable**, like strings:"
   ]
  },
  {
   "cell_type": "code",
   "execution_count": null,
   "metadata": {},
   "outputs": [],
   "source": [
    "t[1] = 2"
   ]
  },
  {
   "cell_type": "markdown",
   "metadata": {},
   "source": [
    "We will not go into the details right now of why this is useful, but you should know that these exist as you may encounter them in examples."
   ]
  },
  {
   "cell_type": "markdown",
   "metadata": {},
   "source": [
    "## Dictionaries"
   ]
  },
  {
   "cell_type": "markdown",
   "metadata": {
    "slideshow": {
     "slide_type": "slide"
    }
   },
   "source": [
    "One of the data types that we have not talked about yet is called *dictionaries* (``dict``). If you think about what a 'real' dictionary is, it is a list of words, and for each word is a definition. Similarly, in Python, we can assign definitions (or 'values'), to words (or 'keywords')."
   ]
  },
  {
   "cell_type": "markdown",
   "metadata": {
    "slideshow": {
     "slide_type": "slide"
    }
   },
   "source": [
    "Dictionaries are defined using curly brackets ``{}``:"
   ]
  },
  {
   "cell_type": "code",
   "execution_count": null,
   "metadata": {},
   "outputs": [],
   "source": [
    "d = {'a':1, 'b':2, 'c':3}"
   ]
  },
  {
   "cell_type": "markdown",
   "metadata": {
    "slideshow": {
     "slide_type": "slide"
    }
   },
   "source": [
    "Items are accessed using square brackets and the 'key':"
   ]
  },
  {
   "cell_type": "code",
   "execution_count": null,
   "metadata": {},
   "outputs": [],
   "source": [
    "d['a']"
   ]
  },
  {
   "cell_type": "code",
   "execution_count": null,
   "metadata": {},
   "outputs": [],
   "source": [
    "d['c']"
   ]
  },
  {
   "cell_type": "markdown",
   "metadata": {
    "slideshow": {
     "slide_type": "slide"
    }
   },
   "source": [
    "Values can also be set this way:"
   ]
  },
  {
   "cell_type": "code",
   "execution_count": null,
   "metadata": {},
   "outputs": [],
   "source": [
    "d['r'] = 2.2"
   ]
  },
  {
   "cell_type": "code",
   "execution_count": null,
   "metadata": {},
   "outputs": [],
   "source": [
    "print(d)"
   ]
  },
  {
   "cell_type": "markdown",
   "metadata": {
    "slideshow": {
     "slide_type": "slide"
    }
   },
   "source": [
    "The keywords don't have to be strings, they can be many (but not all) Python objects:"
   ]
  },
  {
   "cell_type": "code",
   "execution_count": null,
   "metadata": {
    "slideshow": {
     "slide_type": "-"
    }
   },
   "outputs": [],
   "source": [
    "e = {}\n",
    "e['a_string'] = 3.3\n",
    "e[3445] = 2.2\n",
    "e[complex(2,1)] = 'value'"
   ]
  },
  {
   "cell_type": "code",
   "execution_count": null,
   "metadata": {},
   "outputs": [],
   "source": [
    "print(e)"
   ]
  },
  {
   "cell_type": "code",
   "execution_count": null,
   "metadata": {},
   "outputs": [],
   "source": [
    "e[3445]"
   ]
  },
  {
   "cell_type": "markdown",
   "metadata": {
    "slideshow": {
     "slide_type": "slide"
    }
   },
   "source": [
    "If you try and access an element that does not exist, you will get a ``KeyError``:"
   ]
  },
  {
   "cell_type": "code",
   "execution_count": null,
   "metadata": {},
   "outputs": [],
   "source": [
    "e[complex(2,1)]"
   ]
  },
  {
   "cell_type": "markdown",
   "metadata": {
    "slideshow": {
     "slide_type": "slide"
    }
   },
   "source": [
    "Also, note that dictionaries do *not* know about order, so there is no 'first' or 'last' element."
   ]
  },
  {
   "cell_type": "markdown",
   "metadata": {},
   "source": [
    "It is easy to check if a specific key is in a dictionary, using the ``in`` operator:"
   ]
  },
  {
   "cell_type": "code",
   "execution_count": null,
   "metadata": {},
   "outputs": [],
   "source": [
    "\"a\" in d"
   ]
  },
  {
   "cell_type": "code",
   "execution_count": null,
   "metadata": {},
   "outputs": [],
   "source": [
    "\"t\" in d"
   ]
  },
  {
   "cell_type": "markdown",
   "metadata": {},
   "source": [
    "Note that this also works for lists:"
   ]
  },
  {
   "cell_type": "code",
   "execution_count": null,
   "metadata": {},
   "outputs": [],
   "source": [
    "3 in [1,2,3]"
   ]
  },
  {
   "cell_type": "markdown",
   "metadata": {},
   "source": [
    "## Exercise 2"
   ]
  },
  {
   "cell_type": "markdown",
   "metadata": {},
   "source": [
    "Try making a dictionary to translate a few English words into Spanish and try using it!"
   ]
  },
  {
   "cell_type": "markdown",
   "metadata": {},
   "source": [
    "perro = dog; gato = cat; hola = hello; star = estrella; adios = goodbye; por favor = please; gracias = thank you; \n",
    "lo siento = sorry"
   ]
  },
  {
   "cell_type": "code",
   "execution_count": null,
   "metadata": {},
   "outputs": [],
   "source": [
    "\n",
    "# your solution here\n",
    "\n",
    "dic = {'dog':'perro', 'cat':'gato', 'hello':'hola', 'star':'estrella', 'goodbye':'adios', 'please':'por favor',\n",
    "       'thank you': 'gracias', 'sorry': 'lo siento'}\n",
    "\n",
    "dic['sorry']\n"
   ]
  },
  {
   "cell_type": "markdown",
   "metadata": {},
   "source": [
    "## Exercise 3 - Cryptography"
   ]
  },
  {
   "cell_type": "markdown",
   "metadata": {},
   "source": [
    "Cryptography is the study of how to make messages secret or how to read secret messages. A very simple encryption technique is called the *Caesar cipher*, which you can read up more about [here](http://en.wikipedia.org/wiki/Caesar_cipher). The basic idea is that each letter is replaced by a letter that is a certain number of letters away, so for example if the shift was 2, then A would become C, B would become D, etc. (and Z will become B)."
   ]
  },
  {
   "cell_type": "markdown",
   "metadata": {},
   "source": [
    "As we will learn in more detail tomorrow, you can write your own functions in Python, the simplest of which can take the form:"
   ]
  },
  {
   "cell_type": "code",
   "execution_count": null,
   "metadata": {},
   "outputs": [],
   "source": [
    "\n",
    "\n",
    "def encrypt(string, shift):\n",
    "    #do stuff here"
   ]
  },
  {
   "cell_type": "markdown",
   "metadata": {},
   "source": [
    "Write a function that given a string and a shift, will return the encrypted string for that shift. Note that the same function can be used to decrypt a message, by passing it a negative shift. \n",
    "\n",
    "The rules are: you should only accept and return lowercase letters, and spaces should not be changed.\n",
    "\n",
    "Then, decrypt the following message, which was encrypted with a shift of 13:\n",
    "    \n",
    "    pbatenghyngvbaf lbh unir fhpprrqrq va qrpelcgvat gur fgevat    \n",
    "    \n",
    "Now if you are up for a challenge, try and decrypt this **and** find the shift:\n",
    "    \n",
    "    gwc uivioml bw nqvl bpm zqopb apqnb\n",
    "    \n",
    "Hint: there are several ways you can convert between letters and numbers. One is to use the built-in functions ``chr`` and ``ord`` (and remember you can find out more about a function by using ``?`` in IPython). Another is to set up the alphabet in a string and use item access (``[4]``) to convert from numbers to letters, and the ``index`` method to convert from letters to numbers."
   ]
  },
  {
   "cell_type": "code",
   "execution_count": 340,
   "metadata": {},
   "outputs": [],
   "source": [
    "# your solution here\n"
   ]
  },
  {
   "cell_type": "code",
   "execution_count": 345,
   "metadata": {},
   "outputs": [
    {
     "name": "stdout",
     "output_type": "stream",
     "text": [
      "congratulations you have succeeded in decrypting the string"
     ]
    }
   ],
   "source": [
    "message = \"pbatenghyngvbaf lbh unir fhpprrqrq va qrpelcgvat gur fgevat\"\n",
    "\n",
    "\n",
    "shift = -13\n",
    "\n",
    "# should we subtract or add in adj_shift?\n",
    "if shift > 0:\n",
    "    sign = -1\n",
    "elif shift < - 25:\n",
    "    sign = 1\n",
    "    \n",
    "    \n",
    "adj_shift = shift + (sign * (26*(abs(shift) // 26))) # adjusts shift for if shift > 26 or < -26\n",
    "\n",
    "for letter in message:    \n",
    "    letter = ord(letter) # make character into integer    \n",
    "    letter += adj_shift # add adjusted shift \n",
    "\n",
    "    if letter == 32 + adj_shift: # keeps message from a-z\n",
    "        letter -= adj_shift\n",
    "    elif letter > 122:\n",
    "        letter -= 26\n",
    "    elif letter < 97:\n",
    "        letter += 26\n",
    "\n",
    "    letter = chr(letter) # turn integer back into character\n",
    "    print(letter, end=\"\") # prints on one line"
   ]
  },
  {
   "cell_type": "code",
   "execution_count": 346,
   "metadata": {},
   "outputs": [
    {
     "name": "stdout",
     "output_type": "stream",
     "text": [
      "gwc uivioml bw nqvl bpm zqopb apqnb       shift: -26\n",
      "hxd vjwjpnm cx orwm cqn arpqc bqroc       shift: -25\n",
      "iye wkxkqon dy psxn dro bsqrd crspd       shift: -24\n",
      "jzf xlylrpo ez qtyo esp ctrse dstqe       shift: -23\n",
      "kag ymzmsqp fa ruzp ftq dustf eturf       shift: -22\n",
      "lbh znantrq gb svaq gur evtug fuvsg       shift: -21\n",
      "mci aobousr hc twbr hvs fwuvh gvwth       shift: -20\n",
      "ndj bpcpvts id uxcs iwt gxvwi hwxui       shift: -19\n",
      "oek cqdqwut je vydt jxu hywxj ixyvj       shift: -18\n",
      "pfl drerxvu kf wzeu kyv izxyk jyzwk       shift: -17\n",
      "qgm esfsywv lg xafv lzw jayzl kzaxl       shift: -16\n",
      "rhn ftgtzxw mh ybgw max kbzam labym       shift: -15\n",
      "sio guhuayx ni zchx nby lcabn mbczn       shift: -14\n",
      "tjp hvivbzy oj adiy ocz mdbco ncdao       shift: -13\n",
      "ukq iwjwcaz pk bejz pda necdp odebp       shift: -12\n",
      "vlr jxkxdba ql cfka qeb ofdeq pefcq       shift: -11\n",
      "wms kylyecb rm dglb rfc pgefr qfgdr       shift: -10\n",
      "xnt lzmzfdc sn ehmc sgd qhfgs rghes       shift: -9\n",
      "you managed to find the right shift       shift: -8\n",
      "zpv nbobhfe up gjoe uif sjhiu tijgu       shift: -7\n",
      "aqw ocpcigf vq hkpf vjg tkijv ujkhv       shift: -6\n",
      "brx pdqdjhg wr ilqg wkh uljkw vkliw       shift: -5\n",
      "csy qerekih xs jmrh xli vmklx wlmjx       shift: -4\n",
      "dtz rfsflji yt knsi ymj wnlmy xmnky       shift: -3\n",
      "eua sgtgmkj zu lotj znk xomnz ynolz       shift: -2\n",
      "fvb thuhnlk av mpuk aol ypnoa zopma       shift: -1\n",
      "gwc uivioml bw nqvl bpm zqopb apqnb       shift: 0\n",
      "hxd vjwjpnm cx orwm cqn arpqc bqroc       shift: 1\n",
      "iye wkxkqon dy psxn dro bsqrd crspd       shift: 2\n",
      "jzf xlylrpo ez qtyo esp ctrse dstqe       shift: 3\n",
      "kag ymzmsqp fa ruzp ftq dustf eturf       shift: 4\n",
      "lbh znantrq gb svaq gur evtug fuvsg       shift: 5\n",
      "mci aobousr hc twbr hvs fwuvh gvwth       shift: 6\n",
      "ndj bpcpvts id uxcs iwt gxvwi hwxui       shift: 7\n",
      "oek cqdqwut je vydt jxu hywxj ixyvj       shift: 8\n",
      "pfl drerxvu kf wzeu kyv izxyk jyzwk       shift: 9\n",
      "qgm esfsywv lg xafv lzw jayzl kzaxl       shift: 10\n",
      "rhn ftgtzxw mh ybgw max kbzam labym       shift: 11\n",
      "sio guhuayx ni zchx nby lcabn mbczn       shift: 12\n",
      "tjp hvivbzy oj adiy ocz mdbco ncdao       shift: 13\n",
      "ukq iwjwcaz pk bejz pda necdp odebp       shift: 14\n",
      "vlr jxkxdba ql cfka qeb ofdeq pefcq       shift: 15\n",
      "wms kylyecb rm dglb rfc pgefr qfgdr       shift: 16\n",
      "xnt lzmzfdc sn ehmc sgd qhfgs rghes       shift: 17\n",
      "you managed to find the right shift       shift: 18\n",
      "zpv nbobhfe up gjoe uif sjhiu tijgu       shift: 19\n",
      "aqw ocpcigf vq hkpf vjg tkijv ujkhv       shift: 20\n",
      "brx pdqdjhg wr ilqg wkh uljkw vkliw       shift: 21\n",
      "csy qerekih xs jmrh xli vmklx wlmjx       shift: 22\n",
      "dtz rfsflji yt knsi ymj wnlmy xmnky       shift: 23\n",
      "eua sgtgmkj zu lotj znk xomnz ynolz       shift: 24\n",
      "fvb thuhnlk av mpuk aol ypnoa zopma       shift: 25\n",
      "gwc uivioml bw nqvl bpm zqopb apqnb       shift: 26\n"
     ]
    }
   ],
   "source": [
    "message = \"gwc uivioml bw nqvl bpm zqopb apqnb       \"\n",
    "    \n",
    "def  solve(shift):\n",
    "    sign = 1\n",
    "    # should we subtract or add in adj_shift?\n",
    "    if shift > 0:\n",
    "        sign = -1\n",
    "    elif shift < - 25:\n",
    "        sign = 1\n",
    "\n",
    "    adj_shift = shift + (sign * (26*(abs(shift) // 26))) # adjusts shift for if shift > 26 or < -26\n",
    "\n",
    "    for letter in message:    \n",
    "        letter = ord(letter) # make character into integer    \n",
    "        letter += adj_shift # add adjusted shift \n",
    "\n",
    "        if letter == 32 + adj_shift: # parameters\n",
    "            letter -= adj_shift\n",
    "        elif letter > 122:\n",
    "            letter -= 26\n",
    "        elif letter < 97:\n",
    "            letter += 26\n",
    "\n",
    "        letter = chr(letter) # turn integer back into character\n",
    "        print(letter, end='') # prints on one line\n",
    "        \n",
    "        \n",
    "for x in range(-26, 27):\n",
    "    solve(x)\n",
    "    print(\"shift: \" + str(x))\n",
    "    "
   ]
  }
 ],
 "metadata": {
  "kernelspec": {
   "display_name": "Python 3 (ipykernel)",
   "language": "python",
   "name": "python3"
  },
  "language_info": {
   "codemirror_mode": {
    "name": "ipython",
    "version": 3
   },
   "file_extension": ".py",
   "mimetype": "text/x-python",
   "name": "python",
   "nbconvert_exporter": "python",
   "pygments_lexer": "ipython3",
   "version": "3.9.12"
  }
 },
 "nbformat": 4,
 "nbformat_minor": 2
}
